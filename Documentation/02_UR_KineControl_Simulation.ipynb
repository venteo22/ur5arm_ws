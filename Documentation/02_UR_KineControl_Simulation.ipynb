{
 "metadata": {
  "language_info": {
   "codemirror_mode": {
    "name": "ipython",
    "version": 3
   },
   "file_extension": ".py",
   "mimetype": "text/x-python",
   "name": "python",
   "nbconvert_exporter": "python",
   "pygments_lexer": "ipython3",
   "version": 3
  },
  "orig_nbformat": 2
 },
 "nbformat": 4,
 "nbformat_minor": 2,
 "cells": [
  {
   "source": [
    "# UR5 Kinematics simulation"
   ],
   "cell_type": "markdown",
   "metadata": {}
  },
  {
   "source": [
    "We will use th \"ur5_e_moveit_config\" package in \"src/fmauch_universal_robot\" folder for simulation purposes. \n",
    "\n",
    "Detailed information will be found in readme file on: https://github.com/fmauch/universal_robot/tree/melodic-devel-staging\n",
    "\n",
    "We will be able to simulate the Forward and Inverse Kinematics"
   ],
   "cell_type": "markdown",
   "metadata": {}
  },
  {
   "source": [
    "## Forward Kinematics\n",
    "Be sure you have installed \"rqt-joint-trajectory-controller\" package:"
   ],
   "cell_type": "markdown",
   "metadata": {}
  },
  {
   "cell_type": "code",
   "execution_count": null,
   "metadata": {},
   "outputs": [],
   "source": [
    "sudo apt-get install ros-melodic-rqt-joint-trajectory-controller"
   ]
  },
  {
   "source": [
    "### Usage with Gazebo Simulation\n",
    "\n",
    "First of all, we run the simulated ur5 model with the following command:"
   ],
   "cell_type": "markdown",
   "metadata": {}
  },
  {
   "cell_type": "code",
   "execution_count": null,
   "metadata": {},
   "outputs": [],
   "source": [
    "roslaunch ur_e_gazebo ur5e.launch"
   ]
  },
  {
   "source": [
    "To move each one of the joints we will use the package installed before. "
   ],
   "cell_type": "markdown",
   "metadata": {}
  },
  {
   "cell_type": "code",
   "execution_count": null,
   "metadata": {},
   "outputs": [],
   "source": [
    "rosrun rqt_joint_trajectory_controller rqt_joint_trajectory_controller"
   ]
  },
  {
   "source": [
    "On the window controller, we choose 'arm_controller'. After that, all the possible joints of UR5 will appear. Changing these values we will observe the movement in Gazebo. "
   ],
   "cell_type": "markdown",
   "metadata": {}
  },
  {
   "source": [
    "<img src=\"./Images/2_gazebo_joint_controller.png\">"
   ],
   "cell_type": "markdown",
   "metadata": {}
  },
  {
   "source": [
    "## Inverse Kinematics\n",
    "For inverse kinematics you can use moveIt!\n",
    "### MoveIt! with a simulated robot\n",
    "\n",
    "Again, you can use MoveIt! to control the simulated robot.\n",
    "\n",
    "Tutorial\n",
    "http://docs.ros.org/en/melodic/api/moveit_tutorials/html/index.html\n",
    "\n",
    "Videos\n",
    "https://www.youtube.com/watch?v=b4T577d39dE\n",
    "\n",
    "https://www.youtube.com/watch?v=BxCik8OI1Fw\n",
    "\n",
    "As MoveIt! seems to have difficulties with finding plans for the UR with full joint limits [-2pi, 2pi], there is a joint_limited version using joint limits restricted to [-pi,pi]. In order to use this joint limited version, simply use the launch file arguments 'limited', i.e.:"
   ],
   "cell_type": "markdown",
   "metadata": {}
  },
  {
   "cell_type": "code",
   "execution_count": null,
   "metadata": {},
   "outputs": [],
   "source": [
    "roslaunch ur_e_gazebo ur5e.launch limited:=true"
   ]
  },
  {
   "source": [
    "For setting up the MoveIt! nodes to allow motion planning run:"
   ],
   "cell_type": "markdown",
   "metadata": {}
  },
  {
   "cell_type": "code",
   "execution_count": null,
   "metadata": {},
   "outputs": [],
   "source": [
    "roslaunch ur5_e_moveit_config ur5_e_moveit_planning_execution.launch sim:=true limited:=true"
   ]
  },
  {
   "source": [
    "For starting up RViz with a configuration including the MoveIt! Motion Planning plugin run:"
   ],
   "cell_type": "markdown",
   "metadata": {}
  },
  {
   "cell_type": "code",
   "execution_count": null,
   "metadata": {},
   "outputs": [],
   "source": [
    "roslaunch ur5_e_moveit_config moveit_rviz.launch config:=true"
   ]
  },
  {
   "source": [
    "<img src=\"./Images/2_gazebo_rviz_IK.png\">"
   ],
   "cell_type": "markdown",
   "metadata": {}
  },
  {
   "source": [
    "You can:\n",
    "- Plan: with Motion Planning you can view the results in rviz\n",
    "- execute: the planned movement is executed in gazebo"
   ],
   "cell_type": "markdown",
   "metadata": {}
  },
  {
   "source": [
    "### Specific package for Kinematics control\n",
    "\n",
    "We can create a specific package for kinematics control.\n",
    "\n",
    "Create the ur5control package with dependencies:\n",
    "- moveit_core \n",
    "- moveit_visual_tools \n",
    "- moveit_ros_planning_interface \n",
    "- interactive_markers \n",
    "- tf2_geometry_msgs"
   ],
   "cell_type": "markdown",
   "metadata": {}
  },
  {
   "cell_type": "code",
   "execution_count": null,
   "metadata": {},
   "outputs": [],
   "source": [
    "catkin_create_pkg ur5control rospy std_msgs moveit_core moveit_visual_tools moveit_ros_planning_interface interactive_markers tf2_geometry_msgs"
   ]
  },
  {
   "source": [
    "create a specific python file to control the UR5 arm movement in:\n",
    "- Forward Kinematics --> Joints control\n",
    "- Inverse Kinematics --> Pose Control\n",
    "\n",
    "Run first the gazebo model, planning execution and moveit rviz"
   ],
   "cell_type": "markdown",
   "metadata": {}
  },
  {
   "cell_type": "code",
   "execution_count": null,
   "metadata": {},
   "outputs": [],
   "source": [
    "roslaunch ur_e_gazebo ur5e.launch limited:=true\n",
    "roslaunch ur5_e_moveit_config ur5_e_moveit_planning_execution.launch sim:=true limited:=true\n",
    "roslaunch ur5_e_moveit_config moveit_rviz.launch config:=true"
   ]
  },
  {
   "source": [
    "### Joints control\n",
    "We create the \"ur5e_joints_control1.py\" to control the different link angles:\n",
    "\n"
   ],
   "cell_type": "markdown",
   "metadata": {}
  },
  {
   "cell_type": "code",
   "execution_count": null,
   "metadata": {},
   "outputs": [],
   "source": [
    "rosrun ur5control ur5e_joints_control1.py "
   ]
  },
  {
   "source": [
    "<img src=\"./Images/2_control_joints1.png\">"
   ],
   "cell_type": "markdown",
   "metadata": {}
  },
  {
   "source": [
    "Running this python file, we will observe the current joint values. Let's explain a little bit the code of this file.  "
   ],
   "cell_type": "markdown",
   "metadata": {}
  },
  {
   "cell_type": "code",
   "execution_count": null,
   "metadata": {},
   "outputs": [],
   "source": [
    "#! /usr/bin/env python\n",
    "\n",
    "import math\n",
    "from tf.transformations import euler_from_quaternion, quaternion_from_euler\n",
    "import sys\n",
    "import copy\n",
    "import rospy\n",
    "import moveit_commander\n",
    "import moveit_msgs.msg\n",
    "import geometry_msgs.msg\n",
    "\n",
    "#initialize ros node for the process, using the tutorial of move group\n",
    "moveit_commander.roscpp_initialize(sys.argv)\n",
    "rospy.init_node('move_group_python_interface_tutorial', anonymous=True)\n",
    "\n",
    "#defining the robot and scene for collision checking\n",
    "robot = moveit_commander.RobotCommander()\n",
    "scene = moveit_commander.PlanningSceneInterface()   \n",
    "#defining the group that we will control, calling it by the name that we stipulate before    \n",
    "group = moveit_commander.MoveGroupCommander(\"manipulator\")\n",
    "display_trajectory_publisher = rospy.Publisher('/move_group/display_planned_path', moveit_msgs.msg.DisplayTrajectory, queue_size=1)\n",
    "\n",
    "#On the group called, there are the six joints of the robot, adn we called the values of the joints planned\n",
    "group_variable_values = group.get_current_joint_values()\n",
    "\n",
    "#We divide the joint values on 6 (according to the number of joints), which their corresponding orentation\n",
    "group_variable_values[0] = math.radians(0)\n",
    "group_variable_values[1] = math.radians(-90)\n",
    "group_variable_values[2] = math.radians(-90)\n",
    "group_variable_values[3] = math.radians(0)\n",
    "group_variable_values[4] = math.radians(0)\n",
    "group_variable_values[5] = math.radians(0)\n",
    "\n",
    "#Specify a target joint configuration for the group\n",
    "group.set_joint_value_target(group_variable_values)\n",
    "\n",
    "plan2 = group.plan()\n",
    "\n",
    "rospy.sleep(5)\n",
    "group.go(wait=True)\n",
    "rospy.sleep(5)\n",
    "\n",
    "#Here we print the current joint values\n",
    "print (\"Current Joint Values:\")\n",
    "joint_target2=group.get_current_joint_values()\n",
    "print (\"q1 = \"+str(round(math.degrees(joint_target2[0]),0)))\n",
    "print (\"q2 = \"+str(round(math.degrees(joint_target2[1]),0)))\n",
    "print (\"q3 = \"+str(round(math.degrees(joint_target2[2]),0)))\n",
    "print (\"q4 = \"+str(round(math.degrees(joint_target2[3]),0)))\n",
    "print (\"q5 = \"+str(round(math.degrees(joint_target2[4]),0)))\n",
    "print (\"q6 = \"+str(round(math.degrees(joint_target2[5]),0)))\n",
    "#Obtaining current pose of the end-effector of the group on the 3 axis\n",
    "print (\"Current Pose:\")\n",
    "pose_target2=group.get_current_pose()\n",
    "qx=round(pose_target2.pose.orientation.x,2)\n",
    "qy=round(pose_target2.pose.orientation.y,2)\n",
    "qz=round(pose_target2.pose.orientation.z,2)\n",
    "qw=round(pose_target2.pose.orientation.w,2)\n",
    "print (\"x = \"+str(round(pose_target2.pose.position.x,1)))\n",
    "print (\"y = \"+str(round(pose_target2.pose.position.y,1)))\n",
    "print (\"z = \"+str(round(pose_target2.pose.position.z,1)))\n",
    "print (\"qx = \"+str(qx))\n",
    "print (\"qy = \"+str(qy))\n",
    "print (\"qz = \"+str(qz))\n",
    "print (\"qw = \"+str(qw))\n",
    "#Calculate the aircraft principal axis\n",
    "quat2=[qx, qy, qz, qw]\n",
    "(roll, pitch, yaw)=euler_from_quaternion(quat2)\n",
    "print (\"roll = \"+str(math.degrees(roll)))\n",
    "print (\"pitch = \"+str(math.degrees(pitch)))\n",
    "print (\"yaw = \"+str(math.degrees(yaw)))\n",
    "\n",
    "moveit_commander.roscpp_shutdown()"
   ]
  },
  {
   "source": [
    "### Pose control\n",
    "\n",
    "We create the \"ur5e_pose_control1.py\" to control the pose target:"
   ],
   "cell_type": "markdown",
   "metadata": {}
  },
  {
   "cell_type": "code",
   "execution_count": null,
   "metadata": {},
   "outputs": [],
   "source": [
    "rosrun ur5control ur5e_pose_control1.py "
   ]
  },
  {
   "source": [
    "<img src=\"./Images/2_control_pose1.png\">"
   ],
   "cell_type": "markdown",
   "metadata": {}
  },
  {
   "source": [
    "On this case, we are going to do the same, comment the code that shows the position of the target."
   ],
   "cell_type": "markdown",
   "metadata": {}
  },
  {
   "cell_type": "code",
   "execution_count": null,
   "metadata": {},
   "outputs": [],
   "source": [
    "#! /usr/bin/env python\n",
    "\n",
    "import math\n",
    "from tf.transformations import euler_from_quaternion, quaternion_from_euler\n",
    "import sys\n",
    "import copy\n",
    "import rospy\n",
    "import moveit_commander\n",
    "import moveit_msgs.msg\n",
    "import geometry_msgs.msg\n",
    "\n",
    "#initialize ros node for the process, using the tutorial of move group\n",
    "moveit_commander.roscpp_initialize(sys.argv)\n",
    "rospy.init_node('move_group_python_interface_tutorial', anonymous=True)\n",
    "\n",
    "#defining the robot and scene for collision checking\n",
    "robot = moveit_commander.RobotCommander()\n",
    "scene = moveit_commander.PlanningSceneInterface() \n",
    "#defining the group that we will control, calling it by the name that we stipulate before     \n",
    "group = moveit_commander.MoveGroupCommander(\"manipulator\")\n",
    "display_trajectory_publisher = rospy.Publisher('/move_group/display_planned_path', moveit_msgs.msg.DisplayTrajectory, queue_size=1)\n",
    "\n",
    "#Representation of pose and orientation\n",
    "pose_target = geometry_msgs.msg.Pose()\n",
    "#Defining orientation and position\n",
    "pose_target.position.x = -0.3\n",
    "pose_target.position.y = 0.5\n",
    "pose_target.position.z = 0.5\n",
    "r=math.radians(0)\n",
    "p=math.radians(0)\n",
    "w=math.radians(0)\n",
    "quat1=quaternion_from_euler(r,p,w)\n",
    "\n",
    "pose_target.orientation.x = quat1[0]\n",
    "pose_target.orientation.y = quat1[1]\n",
    "pose_target.orientation.z = quat1[2]\n",
    "pose_target.orientation.w = quat1[3]\n",
    "group.set_pose_target(pose_target)\n",
    "\n",
    "plan1 = group.plan()\n",
    "\n",
    "rospy.sleep(1)\n",
    "group.go(wait=True)\n",
    "rospy.sleep(1)\n",
    "\n",
    "#Here we print the current joint values\n",
    "print (\"Current Joint Values:\")\n",
    "joint_target2=group.get_current_joint_values()\n",
    "print (\"q1 = \"+str(round(math.degrees(joint_target2[0]),0)))\n",
    "print (\"q2 = \"+str(round(math.degrees(joint_target2[1]),0)))\n",
    "print (\"q3 = \"+str(round(math.degrees(joint_target2[2]),0)))\n",
    "print (\"q4 = \"+str(round(math.degrees(joint_target2[3]),0)))\n",
    "print (\"q5 = \"+str(round(math.degrees(joint_target2[4]),0)))\n",
    "print (\"q6 = \"+str(round(math.degrees(joint_target2[5]),0)))\n",
    "#Obtaining current pose of the end-effector of the group on the 3 axis\n",
    "print (\"Current Pose:\")\n",
    "pose_target2=group.get_current_pose()\n",
    "qx=round(pose_target2.pose.orientation.x,2)\n",
    "qy=round(pose_target2.pose.orientation.y,2)\n",
    "qz=round(pose_target2.pose.orientation.z,2)\n",
    "qw=round(pose_target2.pose.orientation.w,2)\n",
    "print (\"x = \"+str(round(pose_target2.pose.position.x,1)))\n",
    "print (\"y = \"+str(round(pose_target2.pose.position.y,1)))\n",
    "print (\"z = \"+str(round(pose_target2.pose.position.z,1)))\n",
    "print (\"qx = \"+str(qx))\n",
    "print (\"qy = \"+str(qy))\n",
    "print (\"qz = \"+str(qz))\n",
    "print (\"qw = \"+str(qw))\n",
    "#Calculate the aircraft principal axis\n",
    "quat2=[qx, qy, qz, qw]\n",
    "(roll, pitch, yaw)=euler_from_quaternion(quat2)\n",
    "print (\"roll = \"+str(math.degrees(roll)))\n",
    "print (\"pitch = \"+str(math.degrees(pitch)))\n",
    "print (\"yaw = \"+str(math.degrees(yaw)))\n",
    "\n",
    "moveit_commander.roscpp_shutdown()"
   ]
  },
  {
   "source": [
    "### External Kinematics control\n",
    "\n",
    "If you want to control the ur5e kinematics using an external device, you will need to communicate with it according to:"
   ],
   "cell_type": "markdown",
   "metadata": {}
  },
  {
   "source": [
    "<img src=\"./Images/2_pen_control_node.png\">"
   ],
   "cell_type": "markdown",
   "metadata": {}
  },
  {
   "source": [
    "We will create 2 python files:\n",
    "- \"ur5e_pose2robot.py\" to define the /ur5e_node\n",
    "- \"ur5e_pen_control.py\" to define the /pen_node"
   ],
   "cell_type": "markdown",
   "metadata": {}
  },
  {
   "source": [
    "We can create a \"ur5e_bringup_sim.launch\" launch file to start the robot arm in gazebo and the planning execution"
   ],
   "cell_type": "markdown",
   "metadata": {}
  },
  {
   "cell_type": "code",
   "execution_count": null,
   "metadata": {},
   "outputs": [],
   "source": [
    "<launch>\n",
    "  <arg name=\"sim\" default=\"true\" />\n",
    "  <arg name=\"limited\" default=\"true\"/>\n",
    "  <!-- Launch ur5e -->\n",
    "   <include file=\"$(find ur_e_gazebo)/launch/ur5e.launch\">\n",
    "    <arg name=\"limited\" default=\"$(arg limited)\"/>\n",
    "  </include>\n",
    "  <!-- Launch planning execution -->\n",
    "  <include file=\"$(find ur5_e_moveit_config)/launch/ur5_e_moveit_planning_execution.launch\">\n",
    "    <arg name=\"limited\" default=\"$(arg limited)\"/>\n",
    "    <arg name=\"sim\" default=\"$(arg sim)\"/>\n",
    "  </include>\n",
    "</launch>"
   ]
  },
  {
   "source": [
    "we have created a \"ur5e_pose_control.launch\" to start the 2 nodes to control the pose with a pen device"
   ],
   "cell_type": "markdown",
   "metadata": {}
  },
  {
   "cell_type": "code",
   "execution_count": null,
   "metadata": {},
   "outputs": [],
   "source": [
    "<launch>\n",
    "  <node name=\"pen_control\" pkg=\"ur5control\" type=\"ur5e_pen_control.py\" output=\"screen\">\n",
    "  </node>\n",
    "  <node name=\"ur5e_node\" pkg=\"ur5control\" type=\"ur5e_pose2robot.py\" output=\"screen\">\n",
    "  </node>\n",
    "</launch>"
   ]
  },
  {
   "source": [
    "We can start all the nodes:"
   ],
   "cell_type": "markdown",
   "metadata": {}
  },
  {
   "cell_type": "code",
   "execution_count": null,
   "metadata": {},
   "outputs": [],
   "source": [
    "roslaunch ur5control ur5e_bringup_sim.launch\n",
    "roslaunch ur5control ur5e_pose_control.launch"
   ]
  },
  {
   "source": [
    "<img src=\"./Images/1_bringup1.png\">"
   ],
   "cell_type": "markdown",
   "metadata": {}
  },
  {
   "cell_type": "code",
   "execution_count": null,
   "metadata": {},
   "outputs": [],
   "source": []
  }
 ]
}